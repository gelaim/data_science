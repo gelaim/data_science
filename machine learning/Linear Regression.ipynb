{
 "cells": [
  {
   "cell_type": "markdown",
   "id": "b10c62e7-543b-441a-8a05-39f89dcd50ad",
   "metadata": {},
   "source": [
    "# Linear regression\n",
    "\n",
    "- Least-squares\n",
    "\n",
    "- R-squared\n",
    "\n",
    "- calculate a p-value for r-squared"
   ]
  },
  {
   "cell_type": "code",
   "execution_count": 1,
   "id": "eca17f39-9e3a-4002-9b01-94be2a519ba2",
   "metadata": {},
   "outputs": [],
   "source": [
    "import numpy as np\n",
    "import seaborn as sns\n",
    "sns.set(rc={'figure.figsize':(11.7,8.27)})\n",
    "import matplotlib.pyplot as plt\n"
   ]
  },
  {
   "cell_type": "markdown",
   "id": "fb72a5ba-ee56-494d-9eec-408040fdd3dc",
   "metadata": {},
   "source": [
    "First, lets create a dummy dataset:"
   ]
  },
  {
   "cell_type": "code",
   "execution_count": 2,
   "id": "43042472-83f5-4108-bd2d-39d051be7a59",
   "metadata": {},
   "outputs": [],
   "source": [
    "x = [10,8,13,8,15,27,30,33,4,50]\n",
    "y = [50,36,51,26,44,55,60,80,12,120]"
   ]
  },
  {
   "cell_type": "markdown",
   "id": "f107a1bd-b1b6-405a-9a76-1e35312e22f3",
   "metadata": {},
   "source": [
    "Now lets build a line using least-squares"
   ]
  },
  {
   "cell_type": "code",
   "execution_count": 3,
   "id": "608b1822-b9a6-4f17-8da1-9b234226e325",
   "metadata": {},
   "outputs": [],
   "source": [
    "xy = []\n",
    "for i, val in enumerate(x):\n",
    "    xy.append(x[i] * y[i])\n",
    "\n",
    "xx = [i**2 for i in x]\n",
    "n  = len(x)"
   ]
  },
  {
   "cell_type": "code",
   "execution_count": 4,
   "id": "3ac192fb-b6b7-4e16-be7c-3200ec10531c",
   "metadata": {},
   "outputs": [
    {
     "name": "stdout",
     "output_type": "stream",
     "text": [
      "y = 15.35895846249225 + 1.921264724116553*x\n"
     ]
    }
   ],
   "source": [
    "w = (n*sum(xy) - sum(x)*sum(y)) / (n*sum(xx) - sum(x)**2)\n",
    "b = (sum(y) - w*sum(x))/n\n",
    "print(f'y = {b} + {w}*x')"
   ]
  },
  {
   "cell_type": "markdown",
   "id": "a2491065-278a-45ce-8d5c-d71cc5fd0c23",
   "metadata": {},
   "source": [
    "We have our line equation now (y = b + xw)\n",
    "Here a helper function to predict"
   ]
  },
  {
   "cell_type": "code",
   "execution_count": 5,
   "id": "0505e859-2578-4668-a533-0f7c5703a8d7",
   "metadata": {},
   "outputs": [],
   "source": [
    "def predict(b, w,x):\n",
    "    return b+w*x"
   ]
  },
  {
   "cell_type": "code",
   "execution_count": 6,
   "id": "4d510047-6946-4036-b185-cf00ae6505a1",
   "metadata": {},
   "outputs": [],
   "source": [
    "y_pred = []\n",
    "for i in x:\n",
    "    y_pred.append(predict(b,w,i))\n"
   ]
  },
  {
   "cell_type": "markdown",
   "id": "d05b0467-a9b4-48f0-ba5f-79452e426b74",
   "metadata": {},
   "source": [
    "let's plot the results"
   ]
  },
  {
   "cell_type": "code",
   "execution_count": 7,
   "id": "8d3b6379-02eb-4f34-87c6-4ec72f5fea44",
   "metadata": {},
   "outputs": [
    {
     "data": {
      "text/plain": [
       "<AxesSubplot:>"
      ]
     },
     "execution_count": 7,
     "metadata": {},
     "output_type": "execute_result"
    },
    {
     "data": {
      "image/png": "[encoded data removed]",
      "text/plain": [
       "<Figure size 432x288 with 1 Axes>"
      ]
     },
     "metadata": {
      "needs_background": "light"
     },
     "output_type": "display_data"
    }
   ],
   "source": [
    "sns.scatterplot(x=x, y=y);\n",
    "sns.regplot(x=x, y=y_pred,scatter_kws={\"color\": \"green\"}, line_kws={\"color\": \"red\"})"
   ]
  },
  {
   "cell_type": "markdown",
   "id": "07990c76-14ca-429c-8e8c-e995bc0bf590",
   "metadata": {},
   "source": [
    "Sci-kit learn has a linear regression model, and it also uses least squares. Let's compare the results"
   ]
  },
  {
   "cell_type": "code",
   "execution_count": 8,
   "id": "bba88edb-79f3-46a0-99f7-f95d92684d80",
   "metadata": {},
   "outputs": [],
   "source": [
    "import numpy as np\n",
    "from sklearn.linear_model import LinearRegression"
   ]
  },
  {
   "cell_type": "code",
   "execution_count": 9,
   "id": "71f399a9-a97a-4da0-98ef-8942db47d868",
   "metadata": {},
   "outputs": [],
   "source": [
    "model = LinearRegression().fit(np.array(x).reshape(-1, 1), y)"
   ]
  },
  {
   "cell_type": "code",
   "execution_count": 10,
   "id": "e927f309-cd9e-4494-814f-3bd3fb96fe91",
   "metadata": {},
   "outputs": [
    {
     "data": {
      "text/plain": [
       "<AxesSubplot:>"
      ]
     },
     "execution_count": 10,
     "metadata": {},
     "output_type": "execute_result"
    },
    {
     "data": {
      "image/png": "[encoded data removed]",
      "text/plain": [
       "<Figure size 432x288 with 1 Axes>"
      ]
     },
     "metadata": {
      "needs_background": "light"
     },
     "output_type": "display_data"
    }
   ],
   "source": [
    "y_pred2 = model.predict(np.array(x).reshape(-1, 1))\n",
    "sns.scatterplot(x=x, y=y);\n",
    "sns.regplot(x=x, y=y_pred2,scatter_kws={\"color\": \"green\"}, line_kws={\"color\": \"red\"})"
   ]
  },
  {
   "cell_type": "code",
   "execution_count": null,
   "id": "87d4dd4a-a243-41c3-b996-7d2194ad654b",
   "metadata": {},
   "outputs": [],
   "source": []
  }
 ],
 "metadata": {
  "kernelspec": {
   "display_name": "Python 3 (ipykernel)",
   "language": "python",
   "name": "python3"
  },
  "language_info": {
   "codemirror_mode": {
    "name": "ipython",
    "version": 3
   },
   "file_extension": ".py",
   "mimetype": "text/x-python",
   "name": "python",
   "nbconvert_exporter": "python",
   "pygments_lexer": "ipython3",
   "version": "3.10.5"
  }
 },
 "nbformat": 4,
 "nbformat_minor": 5
}

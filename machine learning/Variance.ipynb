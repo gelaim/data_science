{
 "cells": [
  {
   "cell_type": "markdown",
   "id": "b6e8548c-b671-4285-9ea5-5baa32dc678b",
   "metadata": {},
   "source": [
    "# Variance\n",
    "\n",
    "Our start point to understand variance is a dataset that describes some phenomenon.\n"
   ]
  },
  {
   "cell_type": "code",
   "execution_count": 1,
   "id": "87564b67-f98b-4d06-bfd2-1930913a4a8c",
   "metadata": {},
   "outputs": [
    {
     "data": {
      "image/png": "[encoded data removed]",
      "text/plain": [
       "<Figure size 432x288 with 1 Axes>"
      ]
     },
     "metadata": {
      "needs_background": "light"
     },
     "output_type": "display_data"
    }
   ],
   "source": [
    "import numpy as np\n",
    "import matplotlib.pyplot as plt\n",
    "import seaborn as sns\n",
    "sns.set(rc={'figure.figsize':(11.7,8.27)})\n",
    "rng = np.random.RandomState(0) \n",
    "x = np.linspace(0, 0.7 * np.pi, num=50)\n",
    "\n",
    "n = np.random.normal(scale=5, size=x.size)\n",
    "\n",
    "y = 150 * np.sin(x) + n\n",
    "\n",
    "sns.scatterplot(x=x, y=y);\n"
   ]
  },
  {
   "cell_type": "markdown",
   "id": "c98d6a6f-39d8-4e70-beed-d4f83a8cb2e3",
   "metadata": {},
   "source": [
    "Our goal is to use a *training* part of this dataset to create a model, and then use a *test* part of it to test if the model can fit the testing data.\n",
    "First, lets use the scikit-learn to split the dataset"
   ]
  },
  {
   "cell_type": "code",
   "execution_count": 2,
   "id": "4e0e17aa-bfa4-4516-8292-322fc891246c",
   "metadata": {},
   "outputs": [],
   "source": [
    "from sklearn.model_selection import train_test_split\n",
    "\n",
    "x_train, x_test, y_train, y_test = train_test_split(x,y,test_size=20,random_state=0)"
   ]
  },
  {
   "cell_type": "markdown",
   "id": "331ff284-f56a-4f08-8f02-0461ca5b289d",
   "metadata": {},
   "source": [
    "And now, lets create Random forest model to train it"
   ]
  },
  {
   "cell_type": "code",
   "execution_count": 3,
   "id": "8f3bfe49-e4c6-4acd-abb8-91da08a9d827",
   "metadata": {},
   "outputs": [],
   "source": [
    "from sklearn.ensemble import RandomForestRegressor\n",
    "regr = RandomForestRegressor(bootstrap=True, random_state=0)"
   ]
  },
  {
   "cell_type": "code",
   "execution_count": 4,
   "id": "e59daa6d-9336-42e9-957a-a6f1beb4bc04",
   "metadata": {},
   "outputs": [],
   "source": [
    "model = regr.fit(np.array(x_train).reshape(-1, 1), y_train)\n",
    "\n"
   ]
  },
  {
   "cell_type": "markdown",
   "id": "eb655203-dedd-4958-b2dd-b7254dfc3180",
   "metadata": {},
   "source": [
    "Now let's do something not smart! Let's evaluate using  mean squared error  (MSE), root mean squared error (RMSE) and r-squared"
   ]
  },
  {
   "cell_type": "code",
   "execution_count": 5,
   "id": "a288a1b6-8f42-4f55-a017-0dbdcd711d59",
   "metadata": {},
   "outputs": [
    {
     "name": "stdout",
     "output_type": "stream",
     "text": [
      "The mean squared error using ONLY training data is 2.98050566321065.\n"
     ]
    }
   ],
   "source": [
    "from sklearn.metrics import mean_squared_error\n",
    "y_pred2 = model.predict(np.array(x_train).reshape(-1, 1))\n",
    "mse = mean_squared_error(y_train, y_pred2, squared = False)\n",
    "print(f'The mean squared error using ONLY training data is {mse}.')"
   ]
  },
  {
   "cell_type": "code",
   "execution_count": 6,
   "id": "d0f05727-a60b-4684-a8b1-605b22516b0a",
   "metadata": {},
   "outputs": [
    {
     "name": "stdout",
     "output_type": "stream",
     "text": [
      "The root mean squared error using ONLY training data is 8.883414008430755.\n"
     ]
    }
   ],
   "source": [
    "rmse = mean_squared_error(y_train, y_pred2, squared = True)\n",
    "print(f'The root mean squared error using ONLY training data is {rmse}.')"
   ]
  },
  {
   "cell_type": "code",
   "execution_count": 7,
   "id": "2856bf41-102b-4d24-bf8f-6cc54fd71dda",
   "metadata": {},
   "outputs": [
    {
     "name": "stdout",
     "output_type": "stream",
     "text": [
      "The root mean squared error using ONLY training data is 0.9957792803871689. \n"
     ]
    }
   ],
   "source": [
    "from sklearn.metrics import r2_score\n",
    "r2 = r2_score(y_train, y_pred2)\n",
    "print(f'The root mean squared error using ONLY training data is {r2}. ')"
   ]
  },
  {
   "cell_type": "markdown",
   "id": "2c184e50-9eb0-436c-a89f-51ec1b05e1dc",
   "metadata": {},
   "source": [
    "Wow we got a perfect prediction! However, we are using the training dataset to train AND evaluate the model! So it is PROBABLE that we won't have a variance.\n",
    "Let's try using the test dataset to evaluate our model"
   ]
  },
  {
   "cell_type": "code",
   "execution_count": 8,
   "id": "b313e06f-c915-4a00-a33c-5600478d55e2",
   "metadata": {},
   "outputs": [
    {
     "name": "stdout",
     "output_type": "stream",
     "text": [
      "The mean squared error using test data is 7.168589208643131.\n"
     ]
    }
   ],
   "source": [
    "y_pred2 = model.predict(np.array(x_test).reshape(-1, 1))\n",
    "mse = mean_squared_error(y_test, y_pred2, squared = False)\n",
    "print(f'The mean squared error using test data is {mse}.')"
   ]
  },
  {
   "cell_type": "code",
   "execution_count": 9,
   "id": "631281d4-92ab-4750-bdb7-40cb0c450ec2",
   "metadata": {},
   "outputs": [
    {
     "name": "stdout",
     "output_type": "stream",
     "text": [
      "The root mean squared error using test data is 51.38867124227475.\n"
     ]
    }
   ],
   "source": [
    "rmse = mean_squared_error(y_test, y_pred2, squared = True)\n",
    "print(f'The root mean squared error using test data is {rmse}.')"
   ]
  },
  {
   "cell_type": "code",
   "execution_count": 10,
   "id": "7fea394a-9eb4-4394-ac0a-4f8f9180c445",
   "metadata": {},
   "outputs": [
    {
     "name": "stdout",
     "output_type": "stream",
     "text": [
      "The root mean squared error using test data is 0.972059581361779. \n"
     ]
    }
   ],
   "source": [
    "from sklearn.metrics import r2_score\n",
    "r2 = r2_score(y_test, y_pred2)\n",
    "print(f'The root mean squared error using test data is {r2}. ')"
   ]
  },
  {
   "cell_type": "markdown",
   "id": "6ea2b5fa-bbab-45c7-966f-6fdcbddb1bda",
   "metadata": {},
   "source": [
    "Let's understand what is the meaning of this. When we are using the training dataset to evaluate the model, we don't have variance neither bias. It is a perfect model! However, when we use the test dataset (unknown for the model), we perceive variance. \n",
    "In other notebook we will discuss about **bias-variance tradeoff**."
   ]
  },
  {
   "cell_type": "code",
   "execution_count": null,
   "id": "f8754513-8f08-44b6-808a-60062a53e415",
   "metadata": {},
   "outputs": [],
   "source": []
  }
 ],
 "metadata": {
  "kernelspec": {
   "display_name": "Python 3 (ipykernel)",
   "language": "python",
   "name": "python3"
  },
  "language_info": {
   "codemirror_mode": {
    "name": "ipython",
    "version": 3
   },
   "file_extension": ".py",
   "mimetype": "text/x-python",
   "name": "python",
   "nbconvert_exporter": "python",
   "pygments_lexer": "ipython3",
   "version": "3.10.5"
  }
 },
 "nbformat": 4,
 "nbformat_minor": 5
}

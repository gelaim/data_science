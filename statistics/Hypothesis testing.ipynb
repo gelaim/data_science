{
 "cells": [
  {
   "cell_type": "markdown",
   "id": "99431db1-e7b0-4a7a-8d18-18f9920a3f2d",
   "metadata": {},
   "source": [
    "# Hypothesis testing\n",
    "\n",
    "- Define a hypothesis\n",
    "- Define parameters\n",
    "- Do the experiments\n",
    "- test the hypothesis\n",
    "    - If we have strong evidence against hypothesis, we reject it\n",
    "    - if we have **similar** to the hypothesis, we fail to reject the hypotesis\n",
    "\n",
    "## Null Hypothesis\n",
    "\n",
    "There is **no difference** between two groups\n",
    "   "
   ]
  },
  {
   "cell_type": "code",
   "execution_count": null,
   "id": "3e135243-842e-44cd-a631-b83ae75a7a65",
   "metadata": {},
   "outputs": [],
   "source": []
  }
 ],
 "metadata": {
  "kernelspec": {
   "display_name": "Python 3 (ipykernel)",
   "language": "python",
   "name": "python3"
  },
  "language_info": {
   "codemirror_mode": {
    "name": "ipython",
    "version": 3
   },
   "file_extension": ".py",
   "mimetype": "text/x-python",
   "name": "python",
   "nbconvert_exporter": "python",
   "pygments_lexer": "ipython3",
   "version": "3.10.5"
  }
 },
 "nbformat": 4,
 "nbformat_minor": 5
}

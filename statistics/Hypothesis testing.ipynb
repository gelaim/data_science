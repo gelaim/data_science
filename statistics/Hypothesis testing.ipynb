{
 "cells": [
  {
   "cell_type": "markdown",
   "id": "99431db1-e7b0-4a7a-8d18-18f9920a3f2d",
   "metadata": {},
   "source": [
    "# Hypothesis testing\n",
    "\n",
    "- Define a hypothesis\n",
    "- Define parameters\n",
    "- Do the experiments\n",
    "- test the hypothesis\n",
    "    - If we have strong evidence against hypothesis, we reject it\n",
    "    - if we have **similar** to the hypothesis, we fail to reject the hypotesis\n",
    "\n",
    "## Null Hypothesis\n",
    "\n",
    "There is **no difference** between two groups\n",
    "   "
   ]
  },
  {
   "cell_type": "markdown",
   "id": "7c2762e6-681b-4b64-89c1-0a079ece51c2",
   "metadata": {},
   "source": [
    "## p-value\n",
    "\n",
    "It is a number between 0 and 1 able to quantify the confidence of a test.\n",
    "For example, we have two conditions:\n",
    "\n",
    "- algorithm 1 found the solution in 1234 situations and not in 4\n",
    "- algorithm 2 found the solution in 12 situations and not in 1210 situations\n",
    "\n",
    "Now the two algoritms for a different problem:\n",
    "\n",
    "- algorithm 1 found the solution in 123 situations and not in 12\n",
    "- algorithm 2 found the solution in 126 situations and not in 13 situations\n",
    "\n",
    "\n",
    "The p-value (we are going to calculate), must be small enough to have know that algorithm 1 is better than algorithm 2.\n",
    "Usualy, we define 5% or 0.05 or smaller for a good p-value.\n",
    "\n",
    "\n"
   ]
  },
  {
   "cell_type": "code",
   "execution_count": 1,
   "id": "cc426884-8df1-4a2f-919a-8391e9912a0d",
   "metadata": {},
   "outputs": [],
   "source": [
    "import scipy.stats as stats\n"
   ]
  },
  {
   "cell_type": "code",
   "execution_count": 2,
   "id": "28679adf-1c1b-4e26-afdf-6097dba394dc",
   "metadata": {},
   "outputs": [
    {
     "data": {
      "text/plain": [
       "(1906.5, 1.1792397576448379e-64)"
      ]
     },
     "execution_count": 2,
     "metadata": {},
     "output_type": "execute_result"
    }
   ],
   "source": [
    "group_1 = [123,4]\n",
    "group_2 = [2,124]\n",
    "stats.fisher_exact([group_1,group_2], alternative='two-sided')"
   ]
  },
  {
   "cell_type": "code",
   "execution_count": 3,
   "id": "287445d9-189a-49d1-9e60-bcedac967b42",
   "metadata": {},
   "outputs": [
    {
     "data": {
      "text/plain": [
       "(9.5325, 6.617827803222924e-21)"
      ]
     },
     "execution_count": 3,
     "metadata": {},
     "output_type": "execute_result"
    }
   ],
   "source": [
    "group_1 = [123,40]\n",
    "group_2 = [40,124]\n",
    "stats.fisher_exact([group_1,group_2], alternative='two-sided')"
   ]
  },
  {
   "cell_type": "code",
   "execution_count": 4,
   "id": "900a50cc-6599-4fbd-bab6-9fb584ec67e7",
   "metadata": {},
   "outputs": [
    {
     "data": {
      "text/plain": [
       "(0.8266129032258065, 0.8245248503942326)"
      ]
     },
     "execution_count": 4,
     "metadata": {},
     "output_type": "execute_result"
    }
   ],
   "source": [
    "group_1 = [123,12]\n",
    "group_2 = [124,10]\n",
    "stats.fisher_exact([group_1,group_2], alternative='two-sided')"
   ]
  },
  {
   "cell_type": "code",
   "execution_count": null,
   "id": "f1e5272a-50a8-4f2e-be98-6cb14b81abf9",
   "metadata": {},
   "outputs": [],
   "source": []
  }
 ],
 "metadata": {
  "kernelspec": {
   "display_name": "Python 3 (ipykernel)",
   "language": "python",
   "name": "python3"
  },
  "language_info": {
   "codemirror_mode": {
    "name": "ipython",
    "version": 3
   },
   "file_extension": ".py",
   "mimetype": "text/x-python",
   "name": "python",
   "nbconvert_exporter": "python",
   "pygments_lexer": "ipython3",
   "version": "3.10.5"
  }
 },
 "nbformat": 4,
 "nbformat_minor": 5
}

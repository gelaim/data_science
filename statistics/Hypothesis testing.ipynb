{
 "cells": [
  {
   "cell_type": "markdown",
   "id": "99431db1-e7b0-4a7a-8d18-18f9920a3f2d",
   "metadata": {},
   "source": [
    "# Hypothesis testing\n",
    "\n",
    "- Define a hypothesis\n",
    "- Define parameters\n",
    "- Do the experiments\n",
    "- test the hypothesis\n",
    "    - If we have strong evidence against hypothesis, we reject it\n",
    "    - if we have **similar** to the hypothesis, we fail to reject the hypotesis\n",
    "\n",
    "## Null Hypothesis\n",
    "\n",
    "There is **no difference** between two groups\n",
    "   "
   ]
  },
  {
   "cell_type": "markdown",
   "id": "7c2762e6-681b-4b64-89c1-0a079ece51c2",
   "metadata": {},
   "source": [
    "## p-value\n",
    "\n",
    "It is a number between 0 and 1 able to quantify the confidence of a test.\n",
    "For example, we have two conditions:\n",
    "\n",
    "- algorithm 1 found the solution in 1234 situations and not in 4\n",
    "- algorithm 2 found the solution in 12 situations and not in 1210 situations\n",
    "\n",
    "Now the two algoritms for a different problem:\n",
    "\n",
    "- algorithm 1 found the solution in 123 situations and not in 12\n",
    "- algorithm 2 found the solution in 126 situations and not in 13 situations\n",
    "\n",
    "\n",
    "The p-value (we are going to calculate), must be small enough to have know that algorithm 1 is better than algorithm 2.\n",
    "Usualy, we define 5% or 0.05 or smaller for a good p-value.\n",
    "\n",
    "\n"
   ]
  },
  {
   "cell_type": "code",
   "execution_count": 1,
   "id": "cc426884-8df1-4a2f-919a-8391e9912a0d",
   "metadata": {},
   "outputs": [],
   "source": [
    "import scipy.stats as stats\n"
   ]
  },
  {
   "cell_type": "code",
   "execution_count": 2,
   "id": "28679adf-1c1b-4e26-afdf-6097dba394dc",
   "metadata": {},
   "outputs": [
    {
     "data": {
      "text/plain": [
       "(1906.5, 1.1792397576448379e-64)"
      ]
     },
     "execution_count": 2,
     "metadata": {},
     "output_type": "execute_result"
    }
   ],
   "source": [
    "group_1 = [123,4]\n",
    "group_2 = [2,124]\n",
    "stats.fisher_exact([group_1,group_2], alternative='two-sided')"
   ]
  },
  {
   "cell_type": "code",
   "execution_count": 3,
   "id": "287445d9-189a-49d1-9e60-bcedac967b42",
   "metadata": {},
   "outputs": [
    {
     "data": {
      "text/plain": [
       "(9.5325, 6.617827803222924e-21)"
      ]
     },
     "execution_count": 3,
     "metadata": {},
     "output_type": "execute_result"
    }
   ],
   "source": [
    "group_1 = [123,40]\n",
    "group_2 = [40,124]\n",
    "stats.fisher_exact([group_1,group_2], alternative='two-sided')"
   ]
  },
  {
   "cell_type": "code",
   "execution_count": 4,
   "id": "900a50cc-6599-4fbd-bab6-9fb584ec67e7",
   "metadata": {},
   "outputs": [
    {
     "data": {
      "text/plain": [
       "(0.8266129032258065, 0.8245248503942326)"
      ]
     },
     "execution_count": 4,
     "metadata": {},
     "output_type": "execute_result"
    }
   ],
   "source": [
    "group_1 = [123,12]\n",
    "group_2 = [124,10]\n",
    "stats.fisher_exact([group_1,group_2], alternative='two-sided')"
   ]
  },
  {
   "cell_type": "markdown",
   "id": "8dbc3249-ece9-4f93-abc3-54584c5e8d03",
   "metadata": {},
   "source": [
    "#### Two-sided vs one-sided p-values\n",
    "\n",
    "One-side p-value are rare, so we are focusing on two-sided p-value.\n",
    "\n",
    "A p-value is composed of three parts:\n",
    "\n",
    "    1 - The probability of an event A: random chance of resulting the observation\n",
    "    2 - The probaibility of events that have equal chance to occur as event A: observing something else that is equally rare ( we many things are equally rare, they are not rare!\n",
    "    3 - The probability of events that have less chance to occur than event A: something rarer or even more extreme\n",
    "    \n",
    "Example:\n",
    "Fliping a coin twice and getting two heads:\n",
    "    1 - 0.25 (two heads)\n",
    "    2 - 0.25 (to tails)\n",
    "    3 - 0 (there is nothing rarer than two heads and two tails)\n",
    "p = 0.5    \n",
    "\n",
    "And to verify the result, we can apply a binomial test:"
   ]
  },
  {
   "cell_type": "code",
   "execution_count": 5,
   "id": "222ff21e-5dfe-4156-bb90-d307f09cfdc1",
   "metadata": {},
   "outputs": [
    {
     "data": {
      "text/plain": [
       "0.5"
      ]
     },
     "execution_count": 5,
     "metadata": {},
     "output_type": "execute_result"
    }
   ],
   "source": [
    "stats.binom_test(2,2,0.5, alternative='two-sided')"
   ]
  },
  {
   "cell_type": "markdown",
   "id": "2c326977-63b3-4e0e-b6ca-1a4649ea2992",
   "metadata": {},
   "source": [
    "Fliping a coin five times and getting four heads:\n"
   ]
  },
  {
   "cell_type": "code",
   "execution_count": 6,
   "id": "dd297966-9640-484a-930c-ee03b22c4393",
   "metadata": {},
   "outputs": [
    {
     "data": {
      "text/plain": [
       "0.375"
      ]
     },
     "execution_count": 6,
     "metadata": {},
     "output_type": "execute_result"
    }
   ],
   "source": [
    "stats.binom_test(4,5,0.5, alternative='two-sided')"
   ]
  },
  {
   "cell_type": "markdown",
   "id": "56799ca9-bc0d-43a2-8ed7-33cbb9269914",
   "metadata": {},
   "source": [
    "In both cases we fail to reject H0, that is, we fail to say that there is difference in flipping 4 tails and any other combination"
   ]
  },
  {
   "cell_type": "markdown",
   "id": "549ef4ce-d3d9-4b06-ab17-7e60a20eba8c",
   "metadata": {},
   "source": [
    "Fliping a coin ten times and getting nine heads:\n"
   ]
  },
  {
   "cell_type": "code",
   "execution_count": 7,
   "id": "920328b9-6760-423b-b3e4-cf9358c8aed8",
   "metadata": {},
   "outputs": [
    {
     "data": {
      "text/plain": [
       "0.021484375"
      ]
     },
     "execution_count": 7,
     "metadata": {},
     "output_type": "execute_result"
    }
   ],
   "source": [
    "stats.binom_test(9,10,0.5, alternative='two-sided')"
   ]
  },
  {
   "cell_type": "markdown",
   "id": "d1bd4eb0-f452-4dfc-b4d1-f54fe636f1d4",
   "metadata": {},
   "source": [
    "In this case, there is a difference! The p-value is < 0.05"
   ]
  },
  {
   "cell_type": "code",
   "execution_count": null,
   "id": "48d82042-4ab8-4139-8d4f-1dc506a433a0",
   "metadata": {},
   "outputs": [],
   "source": []
  }
 ],
 "metadata": {
  "kernelspec": {
   "display_name": "Python 3 (ipykernel)",
   "language": "python",
   "name": "python3"
  },
  "language_info": {
   "codemirror_mode": {
    "name": "ipython",
    "version": 3
   },
   "file_extension": ".py",
   "mimetype": "text/x-python",
   "name": "python",
   "nbconvert_exporter": "python",
   "pygments_lexer": "ipython3",
   "version": "3.10.5"
  }
 },
 "nbformat": 4,
 "nbformat_minor": 5
}

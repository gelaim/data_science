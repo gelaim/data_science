{
 "cells": [
  {
   "cell_type": "markdown",
   "id": "8f6c0243-34ba-4bfd-a402-a16945cc0106",
   "metadata": {},
   "source": [
    "# Probability\n",
    "\n",
    "\n",
    "P(E) = Probability of event E.\n",
    "\n",
    "\n",
    "Let's assume event E is the flip of a coin.\n",
    "We have 2 possible outcomes: heads or tails. This is the **sample space**\n",
    "\n",
    "The probability of heads in fliping a coin is P(H) = 0.5.  \n"
   ]
  },
  {
   "cell_type": "code",
   "execution_count": 1,
   "id": "c36a0d70-6832-4e5c-9aed-512b49e09a11",
   "metadata": {},
   "outputs": [
    {
     "name": "stdout",
     "output_type": "stream",
     "text": [
      "The probability of having a heads fliping a coin is 0.5\n"
     ]
    }
   ],
   "source": [
    "S = ['H', 'T']\n",
    "print(f'The probability of having a heads fliping a coin is {1/len(S)}')"
   ]
  },
  {
   "cell_type": "markdown",
   "id": "2dccfe53-6652-4547-95be-e5f3245fbc2a",
   "metadata": {},
   "source": [
    "This is a really simple example. Now let's assume we are going to flip the coin three times.\n",
    "Now, our sample space 8 outcomes:\n"
   ]
  },
  {
   "cell_type": "code",
   "execution_count": 4,
   "id": "f0109ba5-339f-447c-9070-8d1cb85476f4",
   "metadata": {},
   "outputs": [
    {
     "name": "stdout",
     "output_type": "stream",
     "text": [
      "3\n",
      "2\n",
      "2\n",
      "1\n",
      "2\n",
      "1\n",
      "1\n",
      "0\n"
     ]
    }
   ],
   "source": [
    "from itertools import product\n",
    "for i in list( product(S,repeat=3)):\n",
    "    print (i.count('H'))"
   ]
  },
  {
   "cell_type": "markdown",
   "id": "c6c4b3aa-c565-4773-bdc1-c18fe371d1e4",
   "metadata": {},
   "source": [
    "If we want to know the probability of two heads, we can do:"
   ]
  },
  {
   "cell_type": "code",
   "execution_count": 6,
   "id": "53f42e62-5fb1-4832-9fce-8d9b473a4c0d",
   "metadata": {},
   "outputs": [],
   "source": [
    "count = 0\n",
    "for i in list( product(S,repeat=3)):\n",
    "    if i.count('H')==2:\n",
    "        count +=1\n"
   ]
  },
  {
   "cell_type": "code",
   "execution_count": 8,
   "id": "7660e51a-3a78-49ca-ac4b-20efd4125453",
   "metadata": {},
   "outputs": [
    {
     "name": "stdout",
     "output_type": "stream",
     "text": [
      "The probability of having two heads fliping three coins is 0.375\n"
     ]
    }
   ],
   "source": [
    "print(f'The probability of having two heads fliping three coins is {count/len(list( product(S,repeat=3)))}')"
   ]
  },
  {
   "cell_type": "code",
   "execution_count": null,
   "id": "02476710-3200-4b55-bbd1-ce9323896873",
   "metadata": {},
   "outputs": [],
   "source": []
  },
  {
   "cell_type": "code",
   "execution_count": null,
   "id": "2d9b4715-e1fa-4e97-84d3-afee235369b7",
   "metadata": {},
   "outputs": [],
   "source": []
  },
  {
   "cell_type": "code",
   "execution_count": null,
   "id": "8d3471ad-133f-48eb-9515-87ecd5208492",
   "metadata": {},
   "outputs": [],
   "source": []
  }
 ],
 "metadata": {
  "kernelspec": {
   "display_name": "Python 3 (ipykernel)",
   "language": "python",
   "name": "python3"
  },
  "language_info": {
   "codemirror_mode": {
    "name": "ipython",
    "version": 3
   },
   "file_extension": ".py",
   "mimetype": "text/x-python",
   "name": "python",
   "nbconvert_exporter": "python",
   "pygments_lexer": "ipython3",
   "version": "3.10.5"
  }
 },
 "nbformat": 4,
 "nbformat_minor": 5
}

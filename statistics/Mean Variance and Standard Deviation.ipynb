{
 "cells": [
  {
   "cell_type": "markdown",
   "id": "7370c5c3-3a75-4a5d-8240-1101176ce74d",
   "metadata": {},
   "source": [
    "# Mean, variance and standard deviation\n",
    "\n",
    "- Population mean: is the average of the population (its not an estimative, it is the real value)\n",
    "\n",
    "- Estimating the population mean: is the average of a subset of population.\n",
    "- The population variance is the average of the squared differences betwwen the data and the population mean\n",
    "- Population standard deviation is the square root of the variance "
   ]
  },
  {
   "cell_type": "code",
   "execution_count": 1,
   "id": "06fdc57e-bcae-4a58-a714-4e41966fdca2",
   "metadata": {},
   "outputs": [],
   "source": [
    "import numpy as np\n",
    "import seaborn as sns\n",
    "sns.set(rc={'figure.figsize':(11.7,8.27)})\n",
    "import matplotlib.pyplot as plt\n"
   ]
  },
  {
   "cell_type": "code",
   "execution_count": 2,
   "id": "92fc7b28-8022-456d-85a4-1aaa3e252e07",
   "metadata": {},
   "outputs": [],
   "source": [
    "rng = np.random.RandomState(0) "
   ]
  },
  {
   "cell_type": "code",
   "execution_count": 3,
   "id": "2928b695-f2ba-4b7e-867b-afc8aed3c733",
   "metadata": {},
   "outputs": [],
   "source": [
    "population_size = 5000\n",
    "\n",
    "population_distribution = rng.normal(\n",
    "    loc=2.0,        # The mean of the distribution\n",
    "    scale=3,      # The standard deviation \n",
    "    size=population_size      # The size or shape of your array\n",
    ")"
   ]
  },
  {
   "cell_type": "code",
   "execution_count": 4,
   "id": "c3bac794-512b-40f2-828e-e7d19c6508ff",
   "metadata": {},
   "outputs": [],
   "source": [
    "sample_distribution = np.random.choice(population_distribution, population_size//20, replace=False)\n"
   ]
  },
  {
   "cell_type": "code",
   "execution_count": 5,
   "id": "5237e3f6-b54e-450a-87e2-2f334503e3b8",
   "metadata": {},
   "outputs": [
    {
     "name": "stdout",
     "output_type": "stream",
     "text": [
      "the population mean is 1.955821858922648\n",
      "the sample mean is 2.1884295291973874\n"
     ]
    }
   ],
   "source": [
    "print(f'the population mean is {np.mean(population_distribution)}')\n",
    "print(f'the sample mean is {np.mean(sample_distribution)}')\n"
   ]
  },
  {
   "cell_type": "code",
   "execution_count": 7,
   "id": "aeaf5ac4-4c2f-4af8-9996-eb411195d649",
   "metadata": {},
   "outputs": [
    {
     "name": "stdout",
     "output_type": "stream",
     "text": [
      "the population variance is 8.737997835733319\n",
      "the sample variance is 8.726769082605898\n"
     ]
    }
   ],
   "source": [
    "print(f'the population variance is {np.var(population_distribution)}')\n",
    "print(f'the sample variance is {np.var(sample_distribution,ddof=1)}')\n"
   ]
  },
  {
   "cell_type": "code",
   "execution_count": 8,
   "id": "7b3beda7-b2f0-4d18-8081-712ef1d5edc9",
   "metadata": {},
   "outputs": [
    {
     "name": "stdout",
     "output_type": "stream",
     "text": [
      "the population std is 2.956010459340988\n",
      "the sample std is 2.9541105400113072\n"
     ]
    }
   ],
   "source": [
    "print(f'the population std is {np.std(population_distribution)}')\n",
    "print(f'the sample std is {np.std(sample_distribution,ddof=1)}')\n"
   ]
  },
  {
   "cell_type": "code",
   "execution_count": null,
   "id": "e0043c56-05c0-435e-bfd8-0d5bc3b9d8cb",
   "metadata": {},
   "outputs": [],
   "source": []
  }
 ],
 "metadata": {
  "kernelspec": {
   "display_name": "Python 3 (ipykernel)",
   "language": "python",
   "name": "python3"
  },
  "language_info": {
   "codemirror_mode": {
    "name": "ipython",
    "version": 3
   },
   "file_extension": ".py",
   "mimetype": "text/x-python",
   "name": "python",
   "nbconvert_exporter": "python",
   "pygments_lexer": "ipython3",
   "version": "3.10.5"
  }
 },
 "nbformat": 4,
 "nbformat_minor": 5
}

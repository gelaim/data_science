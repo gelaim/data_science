{
 "cells": [
  {
   "cell_type": "markdown",
   "id": "090d6c8f-eac3-43c6-9bb1-e7d9056229d9",
   "metadata": {},
   "source": [
    "# Correlation\n",
    "\n",
    "A correlation quantify the strength of a relationship.\n",
    "\n",
    "\n",
    "My approach to explain correlation will be by examples\n"
   ]
  },
  {
   "cell_type": "markdown",
   "id": "3dfa6f91-eaba-4389-897c-e1e50792d323",
   "metadata": {},
   "source": [
    "Lets start considering only 2 points in the same 'line'."
   ]
  },
  {
   "cell_type": "code",
   "execution_count": 1,
   "id": "87190f55-0f62-4fdb-9f48-53992a58d496",
   "metadata": {},
   "outputs": [
    {
     "data": {
      "text/plain": [
       "<AxesSubplot:>"
      ]
     },
     "execution_count": 1,
     "metadata": {},
     "output_type": "execute_result"
    },
    {
     "data": {
      "image/png": "[encoded data removed]",
      "text/plain": [
       "<Figure size 432x288 with 1 Axes>"
      ]
     },
     "metadata": {
      "needs_background": "light"
     },
     "output_type": "display_data"
    }
   ],
   "source": [
    "import numpy as np\n",
    "import seaborn as sns\n",
    "from scipy.stats import pearsonr\n",
    "\n",
    "x = [1,2]\n",
    "y = [3,4]\n",
    "a = [x,y]\n",
    "sns.scatterplot( x=x, y=y)\n"
   ]
  },
  {
   "cell_type": "code",
   "execution_count": 2,
   "id": "6d6dbbbf-73b1-477f-b6ce-42032ed5cf18",
   "metadata": {},
   "outputs": [
    {
     "name": "stdout",
     "output_type": "stream",
     "text": [
      "Pearsons correlation: 1.000\n",
      "p-value = 1.0\n"
     ]
    }
   ],
   "source": [
    "corr, p = pearsonr(x, y)\n",
    "print('Pearsons correlation: %.3f' % corr)\n",
    "print(f'p-value = {p}')"
   ]
  },
  {
   "cell_type": "markdown",
   "id": "7a7cff9d-05e6-4436-8c3d-1745b502517d",
   "metadata": {},
   "source": [
    "They have a high correlation because they are in the same line (two points are always in the same line), however, we have just 2 data points, so the result may not be good."
   ]
  },
  {
   "cell_type": "code",
   "execution_count": 3,
   "id": "d6ce7661-7910-4a35-9b7a-d243048b9a7b",
   "metadata": {},
   "outputs": [
    {
     "data": {
      "text/plain": [
       "<AxesSubplot:>"
      ]
     },
     "execution_count": 3,
     "metadata": {},
     "output_type": "execute_result"
    },
    {
     "data": {
      "image/png": "[encoded data removed]",
      "text/plain": [
       "<Figure size 432x288 with 1 Axes>"
      ]
     },
     "metadata": {
      "needs_background": "light"
     },
     "output_type": "display_data"
    }
   ],
   "source": [
    "x = [1,2,3]\n",
    "y = [4,5,6]\n",
    "a = [x,y]\n",
    "sns.scatterplot( x=x, y=y)\n"
   ]
  },
  {
   "cell_type": "code",
   "execution_count": 4,
   "id": "2163de31-7d0f-46ec-8f7f-1284d7df059d",
   "metadata": {},
   "outputs": [
    {
     "name": "stdout",
     "output_type": "stream",
     "text": [
      "Pearsons correlation: 1.000\n",
      "p-value = 1.3415758552508151e-08\n"
     ]
    }
   ],
   "source": [
    "corr, p = pearsonr(x, y)\n",
    "print('Pearsons correlation: %.3f' % corr)\n",
    "print(f'p-value = {p}')"
   ]
  },
  {
   "cell_type": "markdown",
   "id": "3cae451c-0424-454e-840f-453c8f5c52fd",
   "metadata": {},
   "source": [
    "Three points in the same row also have the same correlation!"
   ]
  },
  {
   "cell_type": "code",
   "execution_count": 5,
   "id": "0e22ad8a-667b-4b0c-b82f-90b232cef8b2",
   "metadata": {},
   "outputs": [
    {
     "data": {
      "text/plain": [
       "<AxesSubplot:>"
      ]
     },
     "execution_count": 5,
     "metadata": {},
     "output_type": "execute_result"
    },
    {
     "data": {
      "image/png": "[encoded data removed]",
      "text/plain": [
       "<Figure size 432x288 with 1 Axes>"
      ]
     },
     "metadata": {
      "needs_background": "light"
     },
     "output_type": "display_data"
    }
   ],
   "source": [
    "x = [1,2,3]\n",
    "y = [4,5,5]\n",
    "a = [x,y]\n",
    "sns.scatterplot( x=x, y=y)\n"
   ]
  },
  {
   "cell_type": "code",
   "execution_count": 6,
   "id": "a7190f9e-02dc-4f70-9794-079dda4be373",
   "metadata": {},
   "outputs": [
    {
     "name": "stdout",
     "output_type": "stream",
     "text": [
      "Pearsons correlation: 0.866\n",
      "p-value = 0.3333333333333335\n"
     ]
    }
   ],
   "source": [
    "corr, p = pearsonr(x, y)\n",
    "print('Pearsons correlation: %.3f' % corr)\n",
    "print(f'p-value = {p}')"
   ]
  },
  {
   "cell_type": "markdown",
   "id": "f226b258-550f-40e5-8ed8-c30143f66e4c",
   "metadata": {},
   "source": [
    "But when we move a point, the correlation starts to fall"
   ]
  },
  {
   "cell_type": "code",
   "execution_count": 7,
   "id": "584e45f5-5dc1-48dc-bc9b-6b87fa272d9c",
   "metadata": {},
   "outputs": [
    {
     "data": {
      "text/plain": [
       "<AxesSubplot:>"
      ]
     },
     "execution_count": 7,
     "metadata": {},
     "output_type": "execute_result"
    },
    {
     "data": {
      "image/png": "[encoded data removed]",
      "text/plain": [
       "<Figure size 432x288 with 1 Axes>"
      ]
     },
     "metadata": {
      "needs_background": "light"
     },
     "output_type": "display_data"
    }
   ],
   "source": [
    "x = [1,2,3]\n",
    "y = [6,5,4]\n",
    "a = [x,y]\n",
    "sns.scatterplot( x=x, y=y)"
   ]
  },
  {
   "cell_type": "code",
   "execution_count": 8,
   "id": "bcccee98-219a-462c-a533-c02cf1a6ab54",
   "metadata": {},
   "outputs": [
    {
     "name": "stdout",
     "output_type": "stream",
     "text": [
      "Pearsons correlation: -1.000\n",
      "p-value = 1.3415758552508151e-08\n"
     ]
    }
   ],
   "source": [
    "corr, p = pearsonr(x, y)\n",
    "print('Pearsons correlation: %.3f' % corr)\n",
    "print(f'p-value = {p}')"
   ]
  },
  {
   "cell_type": "markdown",
   "id": "11fbc011-7151-4889-9bff-02c25e3f39d9",
   "metadata": {},
   "source": [
    "If the slop of the imaginary line is negative, the correlation is negative"
   ]
  },
  {
   "cell_type": "code",
   "execution_count": null,
   "id": "62a7e4ba-b052-4fc4-8644-6f307f3c5ca8",
   "metadata": {},
   "outputs": [],
   "source": []
  }
 ],
 "metadata": {
  "kernelspec": {
   "display_name": "Python 3 (ipykernel)",
   "language": "python",
   "name": "python3"
  },
  "language_info": {
   "codemirror_mode": {
    "name": "ipython",
    "version": 3
   },
   "file_extension": ".py",
   "mimetype": "text/x-python",
   "name": "python",
   "nbconvert_exporter": "python",
   "pygments_lexer": "ipython3",
   "version": "3.10.5"
  }
 },
 "nbformat": 4,
 "nbformat_minor": 5
}

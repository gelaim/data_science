{
 "cells": [
  {
   "cell_type": "markdown",
   "id": "9f62d89e-0202-440c-8184-d9250f84edf2",
   "metadata": {},
   "source": [
    "# Standard Error\n",
    "\n",
    "While the standard deviation quantifies the variation within a set of mesurements, the standard error quantifies the variation in the means from multiple sets of measurements.\n",
    "\n",
    "Example:\n",
    "Let's assume we have 5 datasets/samples from a single population."
   ]
  },
  {
   "cell_type": "code",
   "execution_count": 1,
   "id": "6c835d0a-6195-41c0-bea4-323d9966fd84",
   "metadata": {},
   "outputs": [],
   "source": [
    "from scipy.stats import sem\n",
    "import numpy as np\n",
    "dataset1 = [1,2,3,4,5]\n",
    "dataset2 = [2,2,3,3,3]\n",
    "dataset3 = [3,3,3,3,5]\n",
    "dataset4 = [1,1,1,5,5]\n",
    "dataset5 = [2,2,5,5,5]\n",
    "\n",
    "\n",
    "\n"
   ]
  },
  {
   "cell_type": "code",
   "execution_count": 2,
   "id": "46d73ea2-6a92-473b-8a23-e9a7678fd0d5",
   "metadata": {},
   "outputs": [
    {
     "name": "stdout",
     "output_type": "stream",
     "text": [
      "STD of dataset 1 = 1.4142135623730951\n",
      "Mean of dataset 1 = 3.0\n",
      "Standard Error of dataset 1 = 0.7071067811865476\n"
     ]
    }
   ],
   "source": [
    "print(f\"STD of dataset 1 = {np.std(dataset1)}\")\n",
    "print(f\"Mean of dataset 1 = {np.mean(dataset1)}\")\n",
    "print(f\"Standard Error of dataset 1 = {sem(dataset1)}\")\n",
    "\n",
    "      \n"
   ]
  },
  {
   "cell_type": "markdown",
   "id": "f1a6a3b2-6225-4de1-8445-014b03d400d9",
   "metadata": {},
   "source": [
    "Now considering all 5 samples, we have the standard error of the means (all means) \n",
    "I'M NOT SURE ABOUT THE STANDARD ERROR OF MULTIPLE SAMPLES"
   ]
  },
  {
   "cell_type": "code",
   "execution_count": 3,
   "id": "a586f43e-559f-4887-bc28-c4b90df11130",
   "metadata": {},
   "outputs": [
    {
     "name": "stdout",
     "output_type": "stream",
     "text": [
      "STD of means (Standard Error of means) = 0.46647615158762396\n",
      "Mean of means = 3.0799999999999996\n"
     ]
    }
   ],
   "source": [
    "mean1 = np.mean(dataset1)\n",
    "mean2 = np.mean(dataset2)\n",
    "mean3 = np.mean(dataset3)\n",
    "mean4 = np.mean(dataset4)\n",
    "mean5 = np.mean(dataset5)\n",
    "means = [mean1, mean2, mean3, mean4, mean5]\n",
    "print(f\"STD of means (Standard Error of means) = {np.std(means)}\")\n",
    "print(f\"Mean of means = {np.mean(means)}\")\n",
    "\n",
    "      "
   ]
  },
  {
   "cell_type": "code",
   "execution_count": null,
   "id": "4aec1ff1-d1b1-4e96-a5e5-5aeb60eb5174",
   "metadata": {},
   "outputs": [],
   "source": []
  },
  {
   "cell_type": "code",
   "execution_count": null,
   "id": "9ad73cbc-667f-425e-9b74-0001c3da2b74",
   "metadata": {},
   "outputs": [],
   "source": []
  }
 ],
 "metadata": {
  "kernelspec": {
   "display_name": "Python 3 (ipykernel)",
   "language": "python",
   "name": "python3"
  },
  "language_info": {
   "codemirror_mode": {
    "name": "ipython",
    "version": 3
   },
   "file_extension": ".py",
   "mimetype": "text/x-python",
   "name": "python",
   "nbconvert_exporter": "python",
   "pygments_lexer": "ipython3",
   "version": "3.10.5"
  }
 },
 "nbformat": 4,
 "nbformat_minor": 5
}

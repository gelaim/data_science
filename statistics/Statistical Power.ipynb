{
 "cells": [
  {
   "cell_type": "markdown",
   "id": "cb6945b7-f109-40de-93ce-751e665cd972",
   "metadata": {},
   "source": [
    "# Statistical Power\n",
    "\n",
    "**Null hypothesis:** both samples came from the same distribution\n",
    "- with a small p-value (<0.05), we can reject it\n",
    "    \n",
    "   \n"
   ]
  },
  {
   "cell_type": "code",
   "execution_count": null,
   "id": "c9ecd711-91b7-43f3-9cd5-6b8bf58300e6",
   "metadata": {},
   "outputs": [],
   "source": [
    "import scipy.stats as stats\n",
    "import numpy as np\n",
    "from Helper import cohens_d \n",
    "from Helper import cohend \n",
    "\n",
    "import seaborn as sns\n",
    "sns.set(rc={'figure.figsize':(11.7,8.27)})\n",
    "\n",
    "\n",
    "rng = np.random.RandomState(2) \n",
    "population_size = 5000\n",
    "\n",
    "population_1_distribution = rng.normal(\n",
    "    loc=2.0,        # The mean of the distribution\n",
    "    scale=2,      # The standard deviation \n",
    "    size=population_size      # The size or shape of your array\n",
    ")\n",
    "\n",
    "population_2_distribution = rng.normal(\n",
    "    loc=10.0,        # The mean of the distribution\n",
    "    scale=2,      # The standard deviation \n",
    "    size=population_size      # The size or shape of your array\n",
    ")\n",
    "\n",
    "\n"
   ]
  },
  {
   "cell_type": "code",
   "execution_count": null,
   "id": "498473b2-ee2a-44cc-8286-949b995c6a00",
   "metadata": {},
   "outputs": [],
   "source": [
    "sns.histplot(population_1_distribution, kde=False, color=\"lime\",bins=np.arange(-4.0,17.0,0.5))\n",
    "sns.histplot(population_2_distribution, kde=False, color=\"blue\",bins=np.arange(-4.0,17.0,0.4))\n"
   ]
  },
  {
   "cell_type": "code",
   "execution_count": null,
   "id": "624c1f70-aa07-434a-9ac9-5e6cdd0dbfdf",
   "metadata": {},
   "outputs": [],
   "source": [
    "sample_distribution_1 = np.random.choice(population_1_distribution, 10, replace=False)\n",
    "sample_distribution_2 = np.random.choice(population_2_distribution, 10, replace=False)\n",
    "s, p = stats.ttest_ind(sample_distribution_1, sample_distribution_2)\n",
    "print(f'The first p-value is = {p}, so we can say (and see) that the two samples came from different populations')"
   ]
  },
  {
   "cell_type": "markdown",
   "id": "c987150c-421e-41ad-b52a-72a672c10a0b",
   "metadata": {},
   "source": [
    "### Effect Size \n",
    "\n",
    "Cohens_d is a good way to see if the effect size is good. "
   ]
  },
  {
   "cell_type": "code",
   "execution_count": null,
   "id": "89c0066c-b50f-4f0f-9267-169798b46240",
   "metadata": {},
   "outputs": [],
   "source": [
    "print(cohens_d(sample_distribution_1,sample_distribution_2))\n",
    "print(cohend(sample_distribution_1,sample_distribution_2))"
   ]
  },
  {
   "cell_type": "markdown",
   "id": "b17077c3-1bc7-40d7-81de-a87683ab84f1",
   "metadata": {},
   "source": [
    "This second example is a bit tricky:"
   ]
  },
  {
   "cell_type": "code",
   "execution_count": null,
   "id": "a53aea18-c09c-4b7b-802b-186f750cefce",
   "metadata": {},
   "outputs": [],
   "source": [
    "population_1_distribution = rng.normal(\n",
    "    loc=2.0,        # The mean of the distribution\n",
    "    scale=2,      # The standard deviation \n",
    "    size=population_size      # The size or shape of your array\n",
    ")\n",
    "\n",
    "population_2_distribution = rng.normal(\n",
    "    loc=3.0,        # The mean of the distribution\n",
    "    scale=2,      # The standard deviation \n",
    "    size=population_size      # The size or shape of your array\n",
    ")\n",
    "sns.histplot(population_1_distribution, kde=False, color=\"lime\",bins=np.arange(-4.0,17.0,0.5))\n",
    "sns.histplot(population_2_distribution, kde=False, color=\"blue\",bins=np.arange(-4.0,17.0,0.4))\n"
   ]
  },
  {
   "cell_type": "code",
   "execution_count": null,
   "id": "92eb2188-a72d-4b58-81a3-f7eae9b90a68",
   "metadata": {},
   "outputs": [],
   "source": [
    "sample_distribution_1 = np.random.choice(population_1_distribution, 10, replace=False)\n",
    "sample_distribution_2 = np.random.choice(population_2_distribution, 10, replace=False)\n",
    "s, p = stats.ttest_ind(sample_distribution_1, sample_distribution_2)\n",
    "print(f'The first p-value is = {p}, so we cannot reject the null hypothesis; If you keep running the example, at some point you may get a case were we will reject the null hypothesis')"
   ]
  },
  {
   "cell_type": "code",
   "execution_count": null,
   "id": "db7e54a6-c6c9-4791-9bdc-843be4317456",
   "metadata": {},
   "outputs": [],
   "source": [
    "sample_distribution_1 = np.random.choice(population_1_distribution, 100, replace=False)\n",
    "sample_distribution_2 = np.random.choice(population_2_distribution, 100, replace=False)\n",
    "s, p = stats.ttest_ind(sample_distribution_1, sample_distribution_2)\n",
    "print(f'But, if we increase the sample size, we have a good way to see that are two populations.The p-value is = {p}')"
   ]
  },
  {
   "cell_type": "code",
   "execution_count": null,
   "id": "890cfe5e-b4a0-4876-919c-a418e0b7f1bd",
   "metadata": {},
   "outputs": [],
   "source": []
  }
 ],
 "metadata": {
  "kernelspec": {
   "display_name": "Python 3 (ipykernel)",
   "language": "python",
   "name": "python3"
  },
  "language_info": {
   "codemirror_mode": {
    "name": "ipython",
    "version": 3
   },
   "file_extension": ".py",
   "mimetype": "text/x-python",
   "name": "python",
   "nbconvert_exporter": "python",
   "pygments_lexer": "ipython3",
   "version": "3.10.5"
  }
 },
 "nbformat": 4,
 "nbformat_minor": 5
}

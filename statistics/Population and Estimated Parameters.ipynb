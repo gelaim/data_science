{
 "cells": [
  {
   "cell_type": "markdown",
   "id": "852ed281-c5b4-4764-9bef-f73c06634bc8",
   "metadata": {},
   "source": [
    "# Population and Estimated Parameters \n",
    "\n"
   ]
  },
  {
   "cell_type": "code",
   "execution_count": 1,
   "id": "b4bca3b2-91dc-4947-92d4-884cf0758ba4",
   "metadata": {},
   "outputs": [],
   "source": [
    "import numpy as np\n",
    "import seaborn as sns\n",
    "sns.set(rc={'figure.figsize':(11.7,8.27)})\n",
    "import matplotlib.pyplot as plt\n"
   ]
  },
  {
   "cell_type": "code",
   "execution_count": 2,
   "id": "85021787-9243-4da9-9a14-c3d9181c0a6e",
   "metadata": {},
   "outputs": [],
   "source": [
    "rng = np.random.RandomState(0) "
   ]
  },
  {
   "cell_type": "code",
   "execution_count": 3,
   "id": "4c968a91-2254-455b-9afe-5eea1935d92f",
   "metadata": {},
   "outputs": [],
   "source": [
    "population_size = 5000\n",
    "\n",
    "population_distribution = rng.normal(\n",
    "    loc=2.0,        # The mean of the distribution\n",
    "    scale=3,      # The standard deviation \n",
    "    size=population_size      # The size or shape of your array\n",
    ")"
   ]
  },
  {
   "cell_type": "markdown",
   "id": "6760c952-8161-4314-a83c-979a39dc2965",
   "metadata": {},
   "source": [
    "90 % of the population is between the red lines. The mean is 2 units, and the standard deviation is 3"
   ]
  },
  {
   "cell_type": "code",
   "execution_count": 4,
   "id": "581d1d14-1c7e-4ebb-8894-7ab8cf1051bf",
   "metadata": {},
   "outputs": [
    {
     "data": {
      "text/plain": [
       "<matplotlib.lines.Line2D at 0x7f24d2048880>"
      ]
     },
     "execution_count": 4,
     "metadata": {},
     "output_type": "execute_result"
    },
    {
     "data": {
      "image/png": "[encoded data removed]",
      "text/plain": [
       "<Figure size 432x288 with 1 Axes>"
      ]
     },
     "metadata": {
      "needs_background": "light"
     },
     "output_type": "display_data"
    }
   ],
   "source": [
    "ax = sns.histplot(population_distribution, kde=True, color=\"blue\",bins=np.arange(-10.0,15.0,0.5))\n",
    "\n",
    "q3,q1 = np.percentile(population_distribution,[95,5])\n",
    "plt.axvline(q1, color='red')\n",
    "plt.axvline(q3, color='red')"
   ]
  },
  {
   "cell_type": "markdown",
   "id": "1c4a8e73-a65a-4231-b115-ec8587da7d91",
   "metadata": {},
   "source": [
    "The probability of observing a value between the red lines is "
   ]
  },
  {
   "cell_type": "code",
   "execution_count": 5,
   "id": "fd34d93f-08a6-429b-9616-d5c84c6ba196",
   "metadata": {},
   "outputs": [
    {
     "data": {
      "text/plain": [
       "0.9"
      ]
     },
     "execution_count": 5,
     "metadata": {},
     "output_type": "execute_result"
    }
   ],
   "source": [
    "upper = (population_distribution > q3).sum()\n",
    "down = (population_distribution < q1).sum()\n",
    "\n",
    "(population_size - upper - down)/population_size"
   ]
  },
  {
   "cell_type": "markdown",
   "id": "fde8eb2f-30cd-4d57-a5ab-11ceb7e5596a",
   "metadata": {},
   "source": [
    "Exactly 90% :-)"
   ]
  },
  {
   "cell_type": "markdown",
   "id": "583455d5-36ef-48dc-bab4-0c5e72abfdc2",
   "metadata": {},
   "source": [
    "## creating sample from population\n"
   ]
  },
  {
   "cell_type": "code",
   "execution_count": 6,
   "id": "2191757b-773f-4c76-85ee-e8e5e8500097",
   "metadata": {},
   "outputs": [],
   "source": [
    "sample_distribution = np.random.choice(population_distribution, population_size//20, replace=False)\n"
   ]
  },
  {
   "cell_type": "code",
   "execution_count": 7,
   "id": "5da886f8-4a74-42d7-88c8-825677521440",
   "metadata": {},
   "outputs": [
    {
     "data": {
      "text/plain": [
       "<matplotlib.lines.Line2D at 0x7f24d1fb1000>"
      ]
     },
     "execution_count": 7,
     "metadata": {},
     "output_type": "execute_result"
    },
    {
     "data": {
      "image/png": "[encoded data removed]",
      "text/plain": [
       "<Figure size 432x288 with 1 Axes>"
      ]
     },
     "metadata": {
      "needs_background": "light"
     },
     "output_type": "display_data"
    }
   ],
   "source": [
    "ax = sns.histplot(sample_distribution, kde=True, color=\"blue\",bins=np.arange(-10.0,15.0,0.5))\n",
    "\n",
    "q3,q1 = np.percentile(sample_distribution,[95,5])\n",
    "plt.axvline(q1, color='red')\n",
    "plt.axvline(q3, color='red')"
   ]
  },
  {
   "cell_type": "code",
   "execution_count": 8,
   "id": "d64ca05a-e817-404b-a95d-b29dd2d281bb",
   "metadata": {},
   "outputs": [
    {
     "name": "stdout",
     "output_type": "stream",
     "text": [
      "the standard deviation of the sample is 2.825180042055988\n"
     ]
    }
   ],
   "source": [
    "print(f'the standard deviation of the sample is {np.std(sample_distribution, ddof=1)}')"
   ]
  },
  {
   "cell_type": "code",
   "execution_count": 9,
   "id": "8396df9f-f7e2-418d-9821-722a9e51b4b9",
   "metadata": {},
   "outputs": [
    {
     "name": "stdout",
     "output_type": "stream",
     "text": [
      "the mean the sample is 1.9496345564135393\n"
     ]
    }
   ],
   "source": [
    "print(f'the mean the sample is {np.mean(sample_distribution)}')"
   ]
  },
  {
   "cell_type": "code",
   "execution_count": null,
   "id": "3bbf2887-d4eb-4b3c-a9ed-bc92b36af1bd",
   "metadata": {},
   "outputs": [],
   "source": []
  }
 ],
 "metadata": {
  "kernelspec": {
   "display_name": "Python 3 (ipykernel)",
   "language": "python",
   "name": "python3"
  },
  "language_info": {
   "codemirror_mode": {
    "name": "ipython",
    "version": 3
   },
   "file_extension": ".py",
   "mimetype": "text/x-python",
   "name": "python",
   "nbconvert_exporter": "python",
   "pygments_lexer": "ipython3",
   "version": "3.10.5"
  }
 },
 "nbformat": 4,
 "nbformat_minor": 5
}

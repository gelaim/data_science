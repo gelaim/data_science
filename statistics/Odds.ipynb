{
 "cells": [
  {
   "cell_type": "markdown",
   "id": "e8edde2b-91a6-4e93-a245-9f735b4e8134",
   "metadata": {},
   "source": [
    "# Odds\n",
    "\n",
    "**Odds are not probabilities**\n",
    "\n",
    "Odds are the ration of something happening, and something not happening.\n",
    "\n",
    "For example: if I ran 10 marathons and win 7 and lose 3, the odds of me winning is 7/3 = 2.33\n",
    "\n",
    "The **probability** of a victory is 7/10 = 0.7.\n",
    "\n",
    "**Note**: The probability is always between 0 and 1.\n",
    "\n",
    "Now let's try some examples to see the relation between odds and probability"
   ]
  },
  {
   "cell_type": "code",
   "execution_count": 1,
   "id": "34de6cfd-8569-4dc5-8f47-501263d131bb",
   "metadata": {},
   "outputs": [
    {
     "name": "stdout",
     "output_type": "stream",
     "text": [
      "The probability of winning is the number of wins, divided by number of win plus number of losses = 0.7\n"
     ]
    }
   ],
   "source": [
    "n_win = 7\n",
    "n_loss = 3\n",
    "\n",
    "probability_of_winning = n_win/(n_win+n_loss)\n",
    "print(f'The probability of winning is the number of wins, divided by number of win plus number of losses = {probability_of_winning}')"
   ]
  },
  {
   "cell_type": "code",
   "execution_count": 2,
   "id": "55fa1cda-0dbc-4bb0-92be-90f67f2d905b",
   "metadata": {},
   "outputs": [
    {
     "name": "stdout",
     "output_type": "stream",
     "text": [
      "The probability of losing is 1 - the probability of winning = 0.30000000000000004\n",
      "Or the number of losses divided by the number of wins plus the number of losses = 0.3\n"
     ]
    }
   ],
   "source": [
    "print(f'The probability of losing is 1 - the probability of winning = {1- probability_of_winning}')\n",
    "probability_of_losing = n_loss/(n_win+n_loss)\n",
    "\n",
    "print(f'Or the number of losses divided by the number of wins plus the number of losses = {probability_of_losing}')"
   ]
  },
  {
   "cell_type": "markdown",
   "id": "bcb26cdd-6218-403a-b61e-657a3fce3f00",
   "metadata": {},
   "source": [
    "... and with probabilities we can find the odds"
   ]
  },
  {
   "cell_type": "code",
   "execution_count": 3,
   "id": "9ce337f9-902a-47ae-9c0e-d1b8d32fa0cb",
   "metadata": {},
   "outputs": [
    {
     "name": "stdout",
     "output_type": "stream",
     "text": [
      "The odds of winning is the probability of winning divided by the probability of losing = 2.3333333333333335\n",
      "Or was we presented in the beggining it is the number of wins divided by the number of losses = 2.3333333333333335\n"
     ]
    }
   ],
   "source": [
    "print(f'The odds of winning is the probability of winning divided by the probability of losing = {probability_of_winning/probability_of_losing}')\n",
    "print(f'Or was we presented in the beggining it is the number of wins divided by the number of losses = {n_win/n_loss}')"
   ]
  },
  {
   "cell_type": "markdown",
   "id": "6dd7f826-aef9-4fd8-9e11-09b5f3ecf992",
   "metadata": {},
   "source": [
    "... the same ins applied to the losing cases."
   ]
  },
  {
   "cell_type": "code",
   "execution_count": 4,
   "id": "b084d534-a044-4002-9295-64c7f1ffed27",
   "metadata": {},
   "outputs": [
    {
     "name": "stdout",
     "output_type": "stream",
     "text": [
      "The odds of losing is the probability of losing divided by the probability of winning = 0.4285714285714286\n",
      "Or was we presented in the beggining it is the number of losses divided by the number of wins = 0.42857142857142855\n"
     ]
    }
   ],
   "source": [
    "\n",
    "print(f'The odds of losing is the probability of losing divided by the probability of winning = {probability_of_losing/probability_of_winning}')\n",
    "print(f'Or was we presented in the beggining it is the number of losses divided by the number of wins = {n_loss/n_win}')"
   ]
  }
 ],
 "metadata": {
  "kernelspec": {
   "display_name": "Python 3 (ipykernel)",
   "language": "python",
   "name": "python3"
  },
  "language_info": {
   "codemirror_mode": {
    "name": "ipython",
    "version": 3
   },
   "file_extension": ".py",
   "mimetype": "text/x-python",
   "name": "python",
   "nbconvert_exporter": "python",
   "pygments_lexer": "ipython3",
   "version": "3.10.5"
  }
 },
 "nbformat": 4,
 "nbformat_minor": 5
}
